{
 "cells": [
  {
   "cell_type": "code",
   "execution_count": 1,
   "metadata": {},
   "outputs": [
    {
     "name": "stdout",
     "output_type": "stream",
     "text": [
      "Requirement already satisfied: pandas in c:\\users\\pvrch\\appdata\\local\\programs\\python\\python311\\lib\\site-packages (2.2.3)Note: you may need to restart the kernel to use updated packages.\n",
      "\n",
      "Requirement already satisfied: nltk in c:\\users\\pvrch\\appdata\\local\\programs\\python\\python311\\lib\\site-packages (3.9.1)\n",
      "Requirement already satisfied: numpy>=1.23.2 in c:\\users\\pvrch\\appdata\\local\\programs\\python\\python311\\lib\\site-packages (from pandas) (2.2.3)\n",
      "Requirement already satisfied: python-dateutil>=2.8.2 in c:\\users\\pvrch\\appdata\\local\\programs\\python\\python311\\lib\\site-packages (from pandas) (2.9.0.post0)\n",
      "Requirement already satisfied: pytz>=2020.1 in c:\\users\\pvrch\\appdata\\local\\programs\\python\\python311\\lib\\site-packages (from pandas) (2025.1)\n",
      "Requirement already satisfied: tzdata>=2022.7 in c:\\users\\pvrch\\appdata\\local\\programs\\python\\python311\\lib\\site-packages (from pandas) (2025.1)\n",
      "Requirement already satisfied: click in c:\\users\\pvrch\\appdata\\local\\programs\\python\\python311\\lib\\site-packages (from nltk) (8.1.8)\n",
      "Requirement already satisfied: joblib in c:\\users\\pvrch\\appdata\\local\\programs\\python\\python311\\lib\\site-packages (from nltk) (1.4.2)\n",
      "Requirement already satisfied: regex>=2021.8.3 in c:\\users\\pvrch\\appdata\\local\\programs\\python\\python311\\lib\\site-packages (from nltk) (2024.11.6)\n",
      "Requirement already satisfied: tqdm in c:\\users\\pvrch\\appdata\\local\\programs\\python\\python311\\lib\\site-packages (from nltk) (4.67.1)\n",
      "Requirement already satisfied: six>=1.5 in c:\\users\\pvrch\\appdata\\local\\programs\\python\\python311\\lib\\site-packages (from python-dateutil>=2.8.2->pandas) (1.17.0)\n",
      "Requirement already satisfied: colorama in c:\\users\\pvrch\\appdata\\local\\programs\\python\\python311\\lib\\site-packages (from click->nltk) (0.4.6)\n"
     ]
    },
    {
     "name": "stderr",
     "output_type": "stream",
     "text": [
      "[nltk_data] Downloading package wordnet to\n",
      "[nltk_data]     C:\\Users\\pvrch\\AppData\\Roaming\\nltk_data...\n",
      "[nltk_data]   Package wordnet is already up-to-date!\n"
     ]
    },
    {
     "name": "stdout",
     "output_type": "stream",
     "text": [
      "   id                                               text  \\\n",
      "0   1  Our Deeds are the Reason of this #earthquake M...   \n",
      "1   4             Forest fire near La Ronge Sask. Canada   \n",
      "2   5  All residents asked to 'shelter in place' are ...   \n",
      "3   6  13,000 people receive #wildfires evacuation or...   \n",
      "4   7  Just got sent this photo from Ruby #Alaska as ...   \n",
      "\n",
      "                                          clean_text  \n",
      "0         deed reason earthquake may allah forgive u  \n",
      "1              forest fire near la ronge sask canada  \n",
      "2  resident asked shelter place notified officer ...  \n",
      "3  people receive wildfire evacuation order calif...  \n",
      "4  got sent photo ruby alaska smoke wildfire pour...  \n"
     ]
    }
   ],
   "source": [
    "%pip install pandas nltk\n",
    "import pandas as pd\n",
    "import re\n",
    "import nltk\n",
    "from nltk.corpus import stopwords\n",
    "from nltk.tokenize import word_tokenize\n",
    "from nltk.stem import WordNetLemmatizer\n",
    "\n",
    "# Download necessary NLTK data\n",
    "try:\n",
    "    nltk.data.find('corpora/stopwords')\n",
    "except LookupError:\n",
    "    import nltk\n",
    "    nltk.download('stopwords')\n",
    "\n",
    "try:\n",
    "    nltk.data.find('tokenizers/punkt')\n",
    "except LookupError:\n",
    "    import nltk\n",
    "    nltk.download('punkt')\n",
    "\n",
    "try:\n",
    "    nltk.data.find('corpora/wordnet')\n",
    "except LookupError:\n",
    "    import nltk\n",
    "    nltk.download('wordnet')\n",
    "\n",
    "lemmatizer = WordNetLemmatizer()\n",
    "stop_words = set(stopwords.words('english'))\n",
    "\n",
    "def clean_text(text):\n",
    "    # Remove URLs\n",
    "    text = re.sub(r'http\\S+|www\\S+|https\\S+', '', text)\n",
    "    \n",
    "    # Remove mentions (@username)\n",
    "    text = re.sub(r'@\\w+', '', text)\n",
    "    \n",
    "    # Remove hashtags symbols but keep the text\n",
    "    text = re.sub(r'#(\\w+)', r'\\1', text)\n",
    "    \n",
    "    # Remove special characters and numbers\n",
    "    text = re.sub(r'[^a-zA-Z]', ' ', text)\n",
    "    \n",
    "    # Convert text to lowercase\n",
    "    text = text.lower()\n",
    "    \n",
    "    # Tokenize the text\n",
    "    tokens = word_tokenize(text)\n",
    "    \n",
    "    # Remove single character words\n",
    "    tokens = [token for token in tokens if len(token) > 1]\n",
    "    \n",
    "    # Remove stopwords and lemmatize each token\n",
    "    tokens = [lemmatizer.lemmatize(token) for token in tokens if token not in stop_words]\n",
    "    \n",
    "    # Ensure no empty string is returned\n",
    "    cleaned_text = ' '.join(tokens)\n",
    "    return cleaned_text if cleaned_text.strip() else \"empty\"\n",
    "\n",
    "train = pd.read_csv('./data/train.csv')\n",
    "test = pd.read_csv('./data/test.csv')\n",
    "\n",
    "train['clean_text'] = train['text'].apply(clean_text)\n",
    "test['clean_text'] = test['text'].apply(clean_text)\n",
    "\n",
    "print(train[['id', 'text', 'clean_text']].head())\n"
   ]
  },
  {
   "cell_type": "code",
   "execution_count": 2,
   "metadata": {},
   "outputs": [
    {
     "data": {
      "image/png": "[encoded data removed]",
      "text/plain": [
       "<Figure size 640x480 with 1 Axes>"
      ]
     },
     "metadata": {},
     "output_type": "display_data"
    }
   ],
   "source": [
    "import seaborn as sns\n",
    "import matplotlib.pyplot as plt\n",
    "\n",
    "sns.countplot(x=train[\"target\"])\n",
    "plt.title(\"Distribution of Disaster vs. Non-Disaster Tweets\")\n",
    "plt.show()\n"
   ]
  },
  {
   "cell_type": "code",
   "execution_count": 3,
   "metadata": {},
   "outputs": [],
   "source": [
    "from sklearn.feature_extraction.text import TfidfVectorizer\n",
    "\n",
    "# Use TF-IDF with bi-grams and tri-grams\n",
    "tfidf_vectorizer = TfidfVectorizer(ngram_range=(1, 3))  # Unigrams, Bigrams, Trigrams\n",
    "X_train_tfidf = tfidf_vectorizer.fit_transform(train['text'])\n",
    "X_test_tfidf = tfidf_vectorizer.transform(test['text'])\n"
   ]
  },
  {
   "cell_type": "code",
   "execution_count": 4,
   "metadata": {},
   "outputs": [],
   "source": [
    "from sklearn.model_selection import train_test_split\n",
    "from sklearn.linear_model import LogisticRegression\n",
    "from sklearn.metrics import f1_score, classification_report\n",
    "\n",
    "# Create a stratified train-validation split\n",
    "X_train_part, X_val, y_train_part, y_val = train_test_split(\n",
    "    X_train_tfidf, train['target'], \n",
    "    test_size=0.2, \n",
    "    stratify=train['target'], \n",
    "    random_state=42\n",
    ")\n",
    "\n"
   ]
  },
  {
   "cell_type": "code",
   "execution_count": 5,
   "metadata": {},
   "outputs": [
    {
     "name": "stdout",
     "output_type": "stream",
     "text": [
      "Logistic Regression F1 Score: 0.9356357927786499\n",
      "              precision    recall  f1-score   support\n",
      "\n",
      "           0       0.94      0.97      0.95       869\n",
      "           1       0.96      0.91      0.94       654\n",
      "\n",
      "    accuracy                           0.95      1523\n",
      "   macro avg       0.95      0.94      0.94      1523\n",
      "weighted avg       0.95      0.95      0.95      1523\n",
      "\n",
      "Naive Bayes F1 Score: 0.9432454036770583\n",
      "              precision    recall  f1-score   support\n",
      "\n",
      "           0       0.93      0.99      0.96       869\n",
      "           1       0.99      0.90      0.94       654\n",
      "\n",
      "    accuracy                           0.95      1523\n",
      "   macro avg       0.96      0.95      0.95      1523\n",
      "weighted avg       0.96      0.95      0.95      1523\n",
      "\n"
     ]
    }
   ],
   "source": [
    "# Train Logistic Regression with updated TF-IDF features\n",
    "log_model = LogisticRegression(class_weight='balanced', max_iter=1000)\n",
    "log_model.fit(X_train_tfidf, train['target'])\n",
    "\n",
    "# Train Naive Bayes\n",
    "from sklearn.naive_bayes import MultinomialNB\n",
    "nb_model = MultinomialNB()\n",
    "nb_model.fit(X_train_tfidf, train['target'])\n",
    "\n",
    "# Predict\n",
    "y_pred_lr = log_model.predict(X_test_tfidf)\n",
    "y_pred_nb = nb_model.predict(X_test_tfidf)\n",
    "\n",
    "# Predict on validation set\n",
    "y_pred_lr_val = log_model.predict(X_val)\n",
    "y_pred_nb_val = nb_model.predict(X_val)\n",
    "\n",
    "# Evaluate on validation set\n",
    "from sklearn.metrics import classification_report, f1_score\n",
    "\n",
    "print(\"Logistic Regression F1 Score:\", f1_score(y_val, y_pred_lr_val))\n",
    "print(classification_report(y_val, y_pred_lr_val))\n",
    "\n",
    "print(\"Naive Bayes F1 Score:\", f1_score(y_val, y_pred_nb_val))\n",
    "print(classification_report(y_val, y_pred_nb_val))\n",
    "\n"
   ]
  },
  {
   "cell_type": "code",
   "execution_count": 6,
   "metadata": {},
   "outputs": [
    {
     "name": "stdout",
     "output_type": "stream",
     "text": [
      "   id  target\n",
      "0   0       0\n",
      "1   2       0\n",
      "2   3       1\n",
      "3   9       0\n",
      "4  11       1\n"
     ]
    }
   ],
   "source": [
    "#Save the submission file\n",
    "submission = pd.read_csv('./data/sample_submission.csv')\n",
    "submission['target'] = y_pred_nb\n",
    "submission.to_csv('submission.csv', index=False)\n",
    "print(submission.head())"
   ]
  },
  {
   "cell_type": "code",
   "execution_count": null,
   "metadata": {},
   "outputs": [],
   "source": []
  },
  {
   "cell_type": "code",
   "execution_count": null,
   "metadata": {},
   "outputs": [],
   "source": []
  }
 ],
 "metadata": {
  "kernelspec": {
   "display_name": "Python 3",
   "language": "python",
   "name": "python3"
  },
  "language_info": {
   "codemirror_mode": {
    "name": "ipython",
    "version": 3
   },
   "file_extension": ".py",
   "mimetype": "text/x-python",
   "name": "python",
   "nbconvert_exporter": "python",
   "pygments_lexer": "ipython3",
   "version": "3.11.0"
  }
 },
 "nbformat": 4,
 "nbformat_minor": 2
}
